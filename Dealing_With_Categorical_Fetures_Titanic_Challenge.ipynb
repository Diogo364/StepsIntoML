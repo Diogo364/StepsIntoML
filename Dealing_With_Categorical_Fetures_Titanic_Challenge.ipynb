{
  "nbformat": 4,
  "nbformat_minor": 0,
  "metadata": {
    "colab": {
      "name": "Dealing With Categorical Fetures - Titanic_Challenge.ipynb",
      "provenance": [],
      "collapsed_sections": [
        "ruAB8n42qTz5"
      ],
      "authorship_tag": "ABX9TyO4Tje8ZOnAm1KBCWkhO1R3",
      "include_colab_link": true
    },
    "kernelspec": {
      "name": "python3",
      "display_name": "Python 3"
    }
  },
  "cells": [
    {
      "cell_type": "markdown",
      "metadata": {
        "id": "view-in-github",
        "colab_type": "text"
      },
      "source": [
        "<a href=\"https://colab.research.google.com/github/Diogo364/StepsIntoML/blob/master/Dealing_With_Categorical_Fetures_Titanic_Challenge.ipynb\" target=\"_parent\"><img src=\"https://colab.research.google.com/assets/colab-badge.svg\" alt=\"Open In Colab\"/></a>"
      ]
    },
    {
      "cell_type": "markdown",
      "metadata": {
        "id": "bLbV3zU4Q63L",
        "colab_type": "text"
      },
      "source": [
        "# Tutorial Categorical Features - Titanic Dataset\n",
        "\n",
        "\n",
        "\n",
        "```\n",
        "@author: Diogo Telheiro do Nascimento\n",
        "@publication_date: datetime.datetime(2020, 5, 26, 16, 40)\n",
        "```\n",
        "\n",
        "\n",
        "\n",
        "### Understanding Categorical Features\n",
        "---\n",
        "[PT-BR]\n",
        "\n",
        "Muitas vezes, quando vamos fazer alguma análise ou trabalhar com algoritmos de Machine Learning, nós temos que lidar com variáveis não numéricas em essencia. \n",
        "\n",
        "Essa tarefa pode parecer um pouco complicada, mas existem ferramentas que facilitam esse processo de transformação que veremos a seguir.\n",
        "\n",
        "Se quiser estudar melhor o conceito de Variávei Categóricas, acesse o link - em [português](http://leg.ufpr.br/~silvia/CE055/node8.html).\n",
        "\n",
        "[EN-US]\n",
        "\n",
        "Many times, when workin in data analysis or Machine Learnin algorithms, we have to deal with non-numerical variables.\n",
        "\n",
        "It may seem a little complicated, but there are a few tools that helps in this transformation process that we'll walk on now.\n",
        "\n",
        "To understand better the concept of categorical variables check this [link](https://www.saedsayad.com/categorical_variables.htm)."
      ]
    },
    {
      "cell_type": "markdown",
      "metadata": {
        "id": "v4e8pYLrSeQT",
        "colab_type": "text"
      },
      "source": [
        "## Basic Libraries\n",
        "---\n",
        "[PT-BR]\n",
        "\n",
        "Primeiramente iremos fazer a importação das bibliotecas clássicas de manipulação de dados do Python.\n",
        "\n",
        "[EN-US]\n",
        "\n",
        "First, we will import the classic Python data manipulation libraries."
      ]
    },
    {
      "cell_type": "code",
      "metadata": {
        "id": "UruyJGLjJL77",
        "colab_type": "code",
        "colab": {}
      },
      "source": [
        "import pandas as pd\n",
        "import numpy as np"
      ],
      "execution_count": 0,
      "outputs": []
    },
    {
      "cell_type": "markdown",
      "metadata": {
        "id": "Yqer2F2GllXp",
        "colab_type": "text"
      },
      "source": [
        "## Import DataSet\n",
        "---\n",
        "\n",
        "[PT-BR]\n",
        "\n",
        "Acesse o dataset que estou disponibilizando no github rodando a celula a baixo.\n",
        "\n",
        "OU \n",
        "\n",
        "1.   Fazer download do [DataSet do Titanic no Kaggle](https://www.kaggle.com/c/titanic/data);\n",
        "2.   Subir os arquivos para o Colab;\n",
        "3.   Continuar o tutorial.\n",
        "\n",
        "[EN-US]\n",
        "\n",
        "Access the dataset in my github account by running the cell bellow.\n",
        "\n",
        "OR \n",
        "\n",
        "1.   Download [Titanic Dataset from Kaggle](https://www.kaggle.com/c/titanic/data) from the link;\n",
        "2.   Upload the files here;\n",
        "3.   Continue with the tutorial."
      ]
    },
    {
      "cell_type": "code",
      "metadata": {
        "id": "B5xaYCXLJ8TP",
        "colab_type": "code",
        "colab": {
          "base_uri": "https://localhost:8080/",
          "height": 34
        },
        "outputId": "eb5afa97-7fd0-424a-cb4b-7874919a7920"
      },
      "source": [
        "try:\n",
        "  train_set = pd.read_csv('train.csv')\n",
        "  print('Downloaded dataset!')\n",
        "except:\n",
        "  train_set = pd.read_csv('https://raw.githubusercontent.com/Diogo364/StepsIntoML/master/data_sets/titanic/train.csv')\n",
        "  print('Github dataset!')"
      ],
      "execution_count": 4,
      "outputs": [
        {
          "output_type": "stream",
          "text": [
            "Github dataset!\n"
          ],
          "name": "stdout"
        }
      ]
    },
    {
      "cell_type": "markdown",
      "metadata": {
        "id": "t7YfGr_yN_JW",
        "colab_type": "text"
      },
      "source": [
        "## Finding Categorical Features\n",
        "---\n",
        "[PT-BR]\n",
        "\n",
        "O primeiro passo é dar uma olhada superficial em nossa base de dados para identificar nossos campos categóricos.\n",
        "\n",
        "[EN-US]\n",
        "\n",
        "The first step is to take a quick look at our dataset looking for our Categorical Features.\n"
      ]
    },
    {
      "cell_type": "code",
      "metadata": {
        "id": "XWb37mLtnQZa",
        "colab_type": "code",
        "outputId": "55b68a35-18a6-45cb-a2af-057f3caa49f8",
        "colab": {
          "base_uri": "https://localhost:8080/",
          "height": 238
        }
      },
      "source": [
        "train_set.head()"
      ],
      "execution_count": 5,
      "outputs": [
        {
          "output_type": "execute_result",
          "data": {
            "text/html": [
              "<div>\n",
              "<style scoped>\n",
              "    .dataframe tbody tr th:only-of-type {\n",
              "        vertical-align: middle;\n",
              "    }\n",
              "\n",
              "    .dataframe tbody tr th {\n",
              "        vertical-align: top;\n",
              "    }\n",
              "\n",
              "    .dataframe thead th {\n",
              "        text-align: right;\n",
              "    }\n",
              "</style>\n",
              "<table border=\"1\" class=\"dataframe\">\n",
              "  <thead>\n",
              "    <tr style=\"text-align: right;\">\n",
              "      <th></th>\n",
              "      <th>PassengerId</th>\n",
              "      <th>Survived</th>\n",
              "      <th>Pclass</th>\n",
              "      <th>Name</th>\n",
              "      <th>Sex</th>\n",
              "      <th>Age</th>\n",
              "      <th>SibSp</th>\n",
              "      <th>Parch</th>\n",
              "      <th>Ticket</th>\n",
              "      <th>Fare</th>\n",
              "      <th>Cabin</th>\n",
              "      <th>Embarked</th>\n",
              "    </tr>\n",
              "  </thead>\n",
              "  <tbody>\n",
              "    <tr>\n",
              "      <th>0</th>\n",
              "      <td>1</td>\n",
              "      <td>0</td>\n",
              "      <td>3</td>\n",
              "      <td>Braund, Mr. Owen Harris</td>\n",
              "      <td>male</td>\n",
              "      <td>22.0</td>\n",
              "      <td>1</td>\n",
              "      <td>0</td>\n",
              "      <td>A/5 21171</td>\n",
              "      <td>7.2500</td>\n",
              "      <td>NaN</td>\n",
              "      <td>S</td>\n",
              "    </tr>\n",
              "    <tr>\n",
              "      <th>1</th>\n",
              "      <td>2</td>\n",
              "      <td>1</td>\n",
              "      <td>1</td>\n",
              "      <td>Cumings, Mrs. John Bradley (Florence Briggs Th...</td>\n",
              "      <td>female</td>\n",
              "      <td>38.0</td>\n",
              "      <td>1</td>\n",
              "      <td>0</td>\n",
              "      <td>PC 17599</td>\n",
              "      <td>71.2833</td>\n",
              "      <td>C85</td>\n",
              "      <td>C</td>\n",
              "    </tr>\n",
              "    <tr>\n",
              "      <th>2</th>\n",
              "      <td>3</td>\n",
              "      <td>1</td>\n",
              "      <td>3</td>\n",
              "      <td>Heikkinen, Miss. Laina</td>\n",
              "      <td>female</td>\n",
              "      <td>26.0</td>\n",
              "      <td>0</td>\n",
              "      <td>0</td>\n",
              "      <td>STON/O2. 3101282</td>\n",
              "      <td>7.9250</td>\n",
              "      <td>NaN</td>\n",
              "      <td>S</td>\n",
              "    </tr>\n",
              "    <tr>\n",
              "      <th>3</th>\n",
              "      <td>4</td>\n",
              "      <td>1</td>\n",
              "      <td>1</td>\n",
              "      <td>Futrelle, Mrs. Jacques Heath (Lily May Peel)</td>\n",
              "      <td>female</td>\n",
              "      <td>35.0</td>\n",
              "      <td>1</td>\n",
              "      <td>0</td>\n",
              "      <td>113803</td>\n",
              "      <td>53.1000</td>\n",
              "      <td>C123</td>\n",
              "      <td>S</td>\n",
              "    </tr>\n",
              "    <tr>\n",
              "      <th>4</th>\n",
              "      <td>5</td>\n",
              "      <td>0</td>\n",
              "      <td>3</td>\n",
              "      <td>Allen, Mr. William Henry</td>\n",
              "      <td>male</td>\n",
              "      <td>35.0</td>\n",
              "      <td>0</td>\n",
              "      <td>0</td>\n",
              "      <td>373450</td>\n",
              "      <td>8.0500</td>\n",
              "      <td>NaN</td>\n",
              "      <td>S</td>\n",
              "    </tr>\n",
              "  </tbody>\n",
              "</table>\n",
              "</div>"
            ],
            "text/plain": [
              "   PassengerId  Survived  Pclass  ...     Fare Cabin  Embarked\n",
              "0            1         0       3  ...   7.2500   NaN         S\n",
              "1            2         1       1  ...  71.2833   C85         C\n",
              "2            3         1       3  ...   7.9250   NaN         S\n",
              "3            4         1       1  ...  53.1000  C123         S\n",
              "4            5         0       3  ...   8.0500   NaN         S\n",
              "\n",
              "[5 rows x 12 columns]"
            ]
          },
          "metadata": {
            "tags": []
          },
          "execution_count": 5
        }
      ]
    },
    {
      "cell_type": "markdown",
      "metadata": {
        "id": "_2_7pyivi_iu",
        "colab_type": "text"
      },
      "source": [
        "[PT-BR]\n",
        "\n",
        "Repare que o conceito de 'Variável Categórica' não se trata do tipo de dado, mas sim ao significado do dado, portanto podemos ter campos com dados tipo numérico sendo categóricos.\n",
        "\n",
        "Para ficar mais claro observe as células a seguir: \n",
        "\n",
        "[EN-US]\n",
        "\n",
        "Notice that the concept of Categorical Feature does not specify the type of the data, but its meaning. Therefore we can have categorical features as numerical type data.\n",
        "\n",
        "To clarify it take a look at the following cell.\n"
      ]
    },
    {
      "cell_type": "code",
      "metadata": {
        "id": "cZtNpEOvqO4h",
        "colab_type": "code",
        "outputId": "f9c10cd1-c487-4481-8695-507cab669e80",
        "colab": {
          "base_uri": "https://localhost:8080/",
          "height": 136
        }
      },
      "source": [
        "print(train_set['PassengerId'].head())\n",
        "print(train_set['PassengerId'].dtype)"
      ],
      "execution_count": 6,
      "outputs": [
        {
          "output_type": "stream",
          "text": [
            "0    1\n",
            "1    2\n",
            "2    3\n",
            "3    4\n",
            "4    5\n",
            "Name: PassengerId, dtype: int64\n",
            "int64\n"
          ],
          "name": "stdout"
        }
      ]
    },
    {
      "cell_type": "markdown",
      "metadata": {
        "id": "Eommvmy8kPwN",
        "colab_type": "text"
      },
      "source": [
        "[PT-BR]\n",
        "\n",
        "Repare que, mesmo o ID do passageiro sendo do tipo inteiro não faz sentido pensarmos essa variável como grandezas numéricas. \n",
        "\n",
        "Alguns testes que podemos fazer para verificar variáveis categóricas são:\n",
        "- Faz algum sentido pensarmos que o passageiro de ID 2 é o dobro do passageiro de ID 1?\n",
        "- Faz algum sentido sabermos que a diferença entre o ID 3 e o ID 1 é 2?\n",
        "- Faz sentido tirarmos a média dos IDs dos passageiros? Essa informação é relevante?\n",
        "\n",
        "Obs: Cuidado com o teste da média, pois no caso de Categóricas Ordinais ela pode fazer sentido.\n",
        "\n",
        "[EN-US]\n",
        "\n",
        "Notice that even though the passanger ID beeing an integer variable we can't make sense of it as a numerical features.\n",
        "\n",
        "We can make a few tests to atests categorical features:\n",
        "- Does it make sense to think that the passenger with ID 2 is twice as big as passenger with ID 1?\n",
        "- Does it make sense knowing that the difference between ID 3 and 1 is 2?\n",
        "- Does it make sense to take the average ID? Is it usefull?\n",
        "\n",
        "Obs: Beware that the average test may make sense on Ordinal Categorical Features."
      ]
    },
    {
      "cell_type": "markdown",
      "metadata": {
        "id": "9eFAMtq2oqwi",
        "colab_type": "text"
      },
      "source": [
        "## About Categorical Features\n",
        "\n",
        "[PT-BR]\n",
        "\n",
        "Existem dois tipos principais de variáveis categóricas:\n",
        "1. Nominais\n",
        "2. Ordinais\n",
        "\n",
        "[EN-US]\n",
        "\n",
        "There are two main types of categorical features:\n",
        "1. Nominal\n",
        "2. Ordinal\n",
        "\n",
        "---\n",
        "### 1. Nominal Categorical Features"
      ]
    },
    {
      "cell_type": "markdown",
      "metadata": {
        "id": "cDjzLhQ8sRlp",
        "colab_type": "text"
      },
      "source": [
        "[PT-BR]\n",
        "\n",
        "Como o título indica, são variáveis que trazem nomes - ou categorias diferentes -, mas que não trazem nenhuma informação quantitativa, portanto não podem ser ordenadas.\n",
        "\n",
        "Nesse exemplo temos nossas Categóricas Nominais listadas abaixo:\n",
        "\n",
        "[EN-US]\n",
        "\n",
        "As the name suggests, this are features that contain names - or different categories - , but doesn't bring any quantitative information, therefore cannot be ordered.\n",
        "\n",
        "In this case we listed our Nominal Features bellow:"
      ]
    },
    {
      "cell_type": "code",
      "metadata": {
        "id": "3RL3pG2snU7E",
        "colab_type": "code",
        "colab": {}
      },
      "source": [
        "nominal_categorical_features = ['PassengerId', 'Survived', 'Name', 'Sex', 'Embarked']"
      ],
      "execution_count": 0,
      "outputs": []
    },
    {
      "cell_type": "code",
      "metadata": {
        "id": "guJUIA9no48p",
        "colab_type": "code",
        "outputId": "c9392612-164f-4e7c-ba5b-bb1696a81967",
        "colab": {
          "base_uri": "https://localhost:8080/",
          "height": 204
        }
      },
      "source": [
        "train_set[nominal_categorical_features].head()"
      ],
      "execution_count": 8,
      "outputs": [
        {
          "output_type": "execute_result",
          "data": {
            "text/html": [
              "<div>\n",
              "<style scoped>\n",
              "    .dataframe tbody tr th:only-of-type {\n",
              "        vertical-align: middle;\n",
              "    }\n",
              "\n",
              "    .dataframe tbody tr th {\n",
              "        vertical-align: top;\n",
              "    }\n",
              "\n",
              "    .dataframe thead th {\n",
              "        text-align: right;\n",
              "    }\n",
              "</style>\n",
              "<table border=\"1\" class=\"dataframe\">\n",
              "  <thead>\n",
              "    <tr style=\"text-align: right;\">\n",
              "      <th></th>\n",
              "      <th>PassengerId</th>\n",
              "      <th>Survived</th>\n",
              "      <th>Name</th>\n",
              "      <th>Sex</th>\n",
              "      <th>Embarked</th>\n",
              "    </tr>\n",
              "  </thead>\n",
              "  <tbody>\n",
              "    <tr>\n",
              "      <th>0</th>\n",
              "      <td>1</td>\n",
              "      <td>0</td>\n",
              "      <td>Braund, Mr. Owen Harris</td>\n",
              "      <td>male</td>\n",
              "      <td>S</td>\n",
              "    </tr>\n",
              "    <tr>\n",
              "      <th>1</th>\n",
              "      <td>2</td>\n",
              "      <td>1</td>\n",
              "      <td>Cumings, Mrs. John Bradley (Florence Briggs Th...</td>\n",
              "      <td>female</td>\n",
              "      <td>C</td>\n",
              "    </tr>\n",
              "    <tr>\n",
              "      <th>2</th>\n",
              "      <td>3</td>\n",
              "      <td>1</td>\n",
              "      <td>Heikkinen, Miss. Laina</td>\n",
              "      <td>female</td>\n",
              "      <td>S</td>\n",
              "    </tr>\n",
              "    <tr>\n",
              "      <th>3</th>\n",
              "      <td>4</td>\n",
              "      <td>1</td>\n",
              "      <td>Futrelle, Mrs. Jacques Heath (Lily May Peel)</td>\n",
              "      <td>female</td>\n",
              "      <td>S</td>\n",
              "    </tr>\n",
              "    <tr>\n",
              "      <th>4</th>\n",
              "      <td>5</td>\n",
              "      <td>0</td>\n",
              "      <td>Allen, Mr. William Henry</td>\n",
              "      <td>male</td>\n",
              "      <td>S</td>\n",
              "    </tr>\n",
              "  </tbody>\n",
              "</table>\n",
              "</div>"
            ],
            "text/plain": [
              "   PassengerId  Survived  ...     Sex Embarked\n",
              "0            1         0  ...    male        S\n",
              "1            2         1  ...  female        C\n",
              "2            3         1  ...  female        S\n",
              "3            4         1  ...  female        S\n",
              "4            5         0  ...    male        S\n",
              "\n",
              "[5 rows x 5 columns]"
            ]
          },
          "metadata": {
            "tags": []
          },
          "execution_count": 8
        }
      ]
    },
    {
      "cell_type": "markdown",
      "metadata": {
        "id": "URdAZ60CovRZ",
        "colab_type": "text"
      },
      "source": [
        "### 2. Ordinal Categorical Features"
      ]
    },
    {
      "cell_type": "markdown",
      "metadata": {
        "id": "XdpLb4gqsSj4",
        "colab_type": "text"
      },
      "source": [
        "[PT-BR]\n",
        "\n",
        "Já as Categóricas Ordinais trazem informações quantitativas, portanto podem ser ordenadas.\n",
        "\n",
        "Nesse exemplo temos nossas Categóricas Ordinais listadas abaixo:\n",
        "\n",
        "[EN-US]\n",
        "\n",
        "Ordinal features brings quantitative information, therefore may be ordered.\n",
        "\n",
        "In this case we listed our Ordinal Features bellow:"
      ]
    },
    {
      "cell_type": "code",
      "metadata": {
        "id": "Li2ECj_zo3II",
        "colab_type": "code",
        "colab": {}
      },
      "source": [
        "ordinal_categorical_features = ['Pclass', 'Ticket', 'Cabin']"
      ],
      "execution_count": 0,
      "outputs": []
    },
    {
      "cell_type": "code",
      "metadata": {
        "id": "znDau4meo_fp",
        "colab_type": "code",
        "outputId": "13c14ed6-d972-4631-f949-de97ce38c31c",
        "colab": {
          "base_uri": "https://localhost:8080/",
          "height": 204
        }
      },
      "source": [
        "train_set[ordinal_categorical_features].head()"
      ],
      "execution_count": 10,
      "outputs": [
        {
          "output_type": "execute_result",
          "data": {
            "text/html": [
              "<div>\n",
              "<style scoped>\n",
              "    .dataframe tbody tr th:only-of-type {\n",
              "        vertical-align: middle;\n",
              "    }\n",
              "\n",
              "    .dataframe tbody tr th {\n",
              "        vertical-align: top;\n",
              "    }\n",
              "\n",
              "    .dataframe thead th {\n",
              "        text-align: right;\n",
              "    }\n",
              "</style>\n",
              "<table border=\"1\" class=\"dataframe\">\n",
              "  <thead>\n",
              "    <tr style=\"text-align: right;\">\n",
              "      <th></th>\n",
              "      <th>Pclass</th>\n",
              "      <th>Ticket</th>\n",
              "      <th>Cabin</th>\n",
              "    </tr>\n",
              "  </thead>\n",
              "  <tbody>\n",
              "    <tr>\n",
              "      <th>0</th>\n",
              "      <td>3</td>\n",
              "      <td>A/5 21171</td>\n",
              "      <td>NaN</td>\n",
              "    </tr>\n",
              "    <tr>\n",
              "      <th>1</th>\n",
              "      <td>1</td>\n",
              "      <td>PC 17599</td>\n",
              "      <td>C85</td>\n",
              "    </tr>\n",
              "    <tr>\n",
              "      <th>2</th>\n",
              "      <td>3</td>\n",
              "      <td>STON/O2. 3101282</td>\n",
              "      <td>NaN</td>\n",
              "    </tr>\n",
              "    <tr>\n",
              "      <th>3</th>\n",
              "      <td>1</td>\n",
              "      <td>113803</td>\n",
              "      <td>C123</td>\n",
              "    </tr>\n",
              "    <tr>\n",
              "      <th>4</th>\n",
              "      <td>3</td>\n",
              "      <td>373450</td>\n",
              "      <td>NaN</td>\n",
              "    </tr>\n",
              "  </tbody>\n",
              "</table>\n",
              "</div>"
            ],
            "text/plain": [
              "   Pclass            Ticket Cabin\n",
              "0       3         A/5 21171   NaN\n",
              "1       1          PC 17599   C85\n",
              "2       3  STON/O2. 3101282   NaN\n",
              "3       1            113803  C123\n",
              "4       3            373450   NaN"
            ]
          },
          "metadata": {
            "tags": []
          },
          "execution_count": 10
        }
      ]
    },
    {
      "cell_type": "markdown",
      "metadata": {
        "id": "UC176ScGdgYV",
        "colab_type": "text"
      },
      "source": [
        "[PT-BR]\n",
        "\n",
        "Note que temos a noção de que a cabine C123 vem depois da cabine C85, muito embora a manipulação algébrica não nos traga informações relevantes.\n",
        "\n",
        "[EN-US]\n",
        "\n",
        "Notice that we can assume that the cabin C123 comes after C85, even though its algebric manipulation doesn't bring any addicional information."
      ]
    },
    {
      "cell_type": "markdown",
      "metadata": {
        "id": "SN6vX5dxpMLp",
        "colab_type": "text"
      },
      "source": [
        "## Total Categorical Features\n",
        "\n",
        "[PT-BR]\n",
        "\n",
        "Agora vamos juntar nossas variáveis categóricas em apenas uma lista.\n",
        "\n",
        "[EN-US]\n",
        "\n",
        "Now lets gather our categorical features in one list."
      ]
    },
    {
      "cell_type": "code",
      "metadata": {
        "id": "-ce7bgOfpOn6",
        "colab_type": "code",
        "outputId": "e9cba62e-b6e5-49bb-ca70-7ab0e9a8dd07",
        "colab": {
          "base_uri": "https://localhost:8080/",
          "height": 153
        }
      },
      "source": [
        "categorical_features = []\n",
        "categorical_features.extend(ordinal_categorical_features)\n",
        "categorical_features.extend(nominal_categorical_features)\n",
        "categorical_features"
      ],
      "execution_count": 11,
      "outputs": [
        {
          "output_type": "execute_result",
          "data": {
            "text/plain": [
              "['Pclass',\n",
              " 'Ticket',\n",
              " 'Cabin',\n",
              " 'PassengerId',\n",
              " 'Survived',\n",
              " 'Name',\n",
              " 'Sex',\n",
              " 'Embarked']"
            ]
          },
          "metadata": {
            "tags": []
          },
          "execution_count": 11
        }
      ]
    },
    {
      "cell_type": "code",
      "metadata": {
        "id": "MTMPVtANpW3d",
        "colab_type": "code",
        "outputId": "269bf014-e2bf-4153-8d0c-eaa414e17194",
        "colab": {
          "base_uri": "https://localhost:8080/",
          "height": 204
        }
      },
      "source": [
        "train_set[categorical_features].head()"
      ],
      "execution_count": 12,
      "outputs": [
        {
          "output_type": "execute_result",
          "data": {
            "text/html": [
              "<div>\n",
              "<style scoped>\n",
              "    .dataframe tbody tr th:only-of-type {\n",
              "        vertical-align: middle;\n",
              "    }\n",
              "\n",
              "    .dataframe tbody tr th {\n",
              "        vertical-align: top;\n",
              "    }\n",
              "\n",
              "    .dataframe thead th {\n",
              "        text-align: right;\n",
              "    }\n",
              "</style>\n",
              "<table border=\"1\" class=\"dataframe\">\n",
              "  <thead>\n",
              "    <tr style=\"text-align: right;\">\n",
              "      <th></th>\n",
              "      <th>Pclass</th>\n",
              "      <th>Ticket</th>\n",
              "      <th>Cabin</th>\n",
              "      <th>PassengerId</th>\n",
              "      <th>Survived</th>\n",
              "      <th>Name</th>\n",
              "      <th>Sex</th>\n",
              "      <th>Embarked</th>\n",
              "    </tr>\n",
              "  </thead>\n",
              "  <tbody>\n",
              "    <tr>\n",
              "      <th>0</th>\n",
              "      <td>3</td>\n",
              "      <td>A/5 21171</td>\n",
              "      <td>NaN</td>\n",
              "      <td>1</td>\n",
              "      <td>0</td>\n",
              "      <td>Braund, Mr. Owen Harris</td>\n",
              "      <td>male</td>\n",
              "      <td>S</td>\n",
              "    </tr>\n",
              "    <tr>\n",
              "      <th>1</th>\n",
              "      <td>1</td>\n",
              "      <td>PC 17599</td>\n",
              "      <td>C85</td>\n",
              "      <td>2</td>\n",
              "      <td>1</td>\n",
              "      <td>Cumings, Mrs. John Bradley (Florence Briggs Th...</td>\n",
              "      <td>female</td>\n",
              "      <td>C</td>\n",
              "    </tr>\n",
              "    <tr>\n",
              "      <th>2</th>\n",
              "      <td>3</td>\n",
              "      <td>STON/O2. 3101282</td>\n",
              "      <td>NaN</td>\n",
              "      <td>3</td>\n",
              "      <td>1</td>\n",
              "      <td>Heikkinen, Miss. Laina</td>\n",
              "      <td>female</td>\n",
              "      <td>S</td>\n",
              "    </tr>\n",
              "    <tr>\n",
              "      <th>3</th>\n",
              "      <td>1</td>\n",
              "      <td>113803</td>\n",
              "      <td>C123</td>\n",
              "      <td>4</td>\n",
              "      <td>1</td>\n",
              "      <td>Futrelle, Mrs. Jacques Heath (Lily May Peel)</td>\n",
              "      <td>female</td>\n",
              "      <td>S</td>\n",
              "    </tr>\n",
              "    <tr>\n",
              "      <th>4</th>\n",
              "      <td>3</td>\n",
              "      <td>373450</td>\n",
              "      <td>NaN</td>\n",
              "      <td>5</td>\n",
              "      <td>0</td>\n",
              "      <td>Allen, Mr. William Henry</td>\n",
              "      <td>male</td>\n",
              "      <td>S</td>\n",
              "    </tr>\n",
              "  </tbody>\n",
              "</table>\n",
              "</div>"
            ],
            "text/plain": [
              "   Pclass            Ticket  ...     Sex  Embarked\n",
              "0       3         A/5 21171  ...    male         S\n",
              "1       1          PC 17599  ...  female         C\n",
              "2       3  STON/O2. 3101282  ...  female         S\n",
              "3       1            113803  ...  female         S\n",
              "4       3            373450  ...    male         S\n",
              "\n",
              "[5 rows x 8 columns]"
            ]
          },
          "metadata": {
            "tags": []
          },
          "execution_count": 12
        }
      ]
    },
    {
      "cell_type": "markdown",
      "metadata": {
        "id": "zncI1XU_dA1S",
        "colab_type": "text"
      },
      "source": [
        "## Transformation\n",
        "---\n",
        "[PT-BR]\n",
        "\n",
        "A forma mais comum que temos de lidar com variáveis categóricas é transformando-as em variáveis numéricas, na forma de uma matriz de presença e ausência. \n",
        "\n",
        "Abaixo vamos falar das principais ferramentas que nos auxiliam nesse processo.\n",
        "\n",
        "\n",
        "[EN-US]\n",
        "\n",
        "Normally, when dealing with categorical features we usually transform them into numerical ones, like an presence-absence matrix.\n",
        "\n",
        "We'll walk through the most common tools that helps us in this process."
      ]
    },
    {
      "cell_type": "markdown",
      "metadata": {
        "id": "ruAB8n42qTz5",
        "colab_type": "text"
      },
      "source": [
        "---\n",
        "### LabelEncoder\n",
        "\n",
        "[PT-BR]\n",
        "\n",
        "Essa classe transforma diretamente o conteúdo das variáveis para números como asseguir.\n",
        "\n",
        "[EN-US]\n",
        "\n",
        "This class transforms our labels into numbers as following example:\n"
      ]
    },
    {
      "cell_type": "code",
      "metadata": {
        "id": "uElLRNw0qk6W",
        "colab_type": "code",
        "colab": {}
      },
      "source": [
        "from sklearn.preprocessing import LabelEncoder"
      ],
      "execution_count": 0,
      "outputs": []
    },
    {
      "cell_type": "code",
      "metadata": {
        "id": "wCgcxbCGqqFB",
        "colab_type": "code",
        "colab": {}
      },
      "source": [
        "le = LabelEncoder()\n",
        "train_set['le_Sex'] = le.fit_transform(train_set['Sex'])"
      ],
      "execution_count": 0,
      "outputs": []
    },
    {
      "cell_type": "code",
      "metadata": {
        "id": "EArN4VHdq1qn",
        "colab_type": "code",
        "outputId": "aa3401d0-a4d2-4a95-96bc-3594d369e274",
        "colab": {
          "base_uri": "https://localhost:8080/",
          "height": 204
        }
      },
      "source": [
        "train_set[['Sex', 'le_Sex']].head()"
      ],
      "execution_count": 15,
      "outputs": [
        {
          "output_type": "execute_result",
          "data": {
            "text/html": [
              "<div>\n",
              "<style scoped>\n",
              "    .dataframe tbody tr th:only-of-type {\n",
              "        vertical-align: middle;\n",
              "    }\n",
              "\n",
              "    .dataframe tbody tr th {\n",
              "        vertical-align: top;\n",
              "    }\n",
              "\n",
              "    .dataframe thead th {\n",
              "        text-align: right;\n",
              "    }\n",
              "</style>\n",
              "<table border=\"1\" class=\"dataframe\">\n",
              "  <thead>\n",
              "    <tr style=\"text-align: right;\">\n",
              "      <th></th>\n",
              "      <th>Sex</th>\n",
              "      <th>le_Sex</th>\n",
              "    </tr>\n",
              "  </thead>\n",
              "  <tbody>\n",
              "    <tr>\n",
              "      <th>0</th>\n",
              "      <td>male</td>\n",
              "      <td>1</td>\n",
              "    </tr>\n",
              "    <tr>\n",
              "      <th>1</th>\n",
              "      <td>female</td>\n",
              "      <td>0</td>\n",
              "    </tr>\n",
              "    <tr>\n",
              "      <th>2</th>\n",
              "      <td>female</td>\n",
              "      <td>0</td>\n",
              "    </tr>\n",
              "    <tr>\n",
              "      <th>3</th>\n",
              "      <td>female</td>\n",
              "      <td>0</td>\n",
              "    </tr>\n",
              "    <tr>\n",
              "      <th>4</th>\n",
              "      <td>male</td>\n",
              "      <td>1</td>\n",
              "    </tr>\n",
              "  </tbody>\n",
              "</table>\n",
              "</div>"
            ],
            "text/plain": [
              "      Sex  le_Sex\n",
              "0    male       1\n",
              "1  female       0\n",
              "2  female       0\n",
              "3  female       0\n",
              "4    male       1"
            ]
          },
          "metadata": {
            "tags": []
          },
          "execution_count": 15
        }
      ]
    },
    {
      "cell_type": "markdown",
      "metadata": {
        "id": "VLqUpI0AhfKz",
        "colab_type": "text"
      },
      "source": [
        "[PT-BR]\n",
        "\n",
        "Repare que `male` foi convertido em `1`, enquanto `female` foi convertido em `0`.\n",
        "\n",
        "[EN-US]\n",
        "\n",
        "Notice that `male` was transformmed in `1`, while `female` in `0`."
      ]
    },
    {
      "cell_type": "markdown",
      "metadata": {
        "id": "EgdEAHawsCiE",
        "colab_type": "text"
      },
      "source": [
        "#### Problem\n",
        "\n",
        "[PT-BR]\n",
        "\n",
        "O maior problema desse método decorre do fato de que estamos atribuindo o peso e o significado numérico nas variáveis ao fazermos essa conversão.\n",
        "\n",
        "Talvez nesse exemplo de `male`, `female` não tenha ficado bem evidente o problema, mas repare no exemplo abaixo:\n",
        "\n",
        "\n",
        "[EN-US]\n",
        "\n",
        "The main problem of this method is that we are adding weight and numerical meaning into our values.\n",
        "\n",
        "The `male`, `female` example may not show the real magnitude of this problem, but take a look into the next one:"
      ]
    },
    {
      "cell_type": "code",
      "metadata": {
        "id": "WXLg4VyZrqeb",
        "colab_type": "code",
        "outputId": "2ec67da7-c1fd-49df-fea3-097bd5a6e55d",
        "colab": {
          "base_uri": "https://localhost:8080/",
          "height": 918
        }
      },
      "source": [
        "train_set['le_Ticket'] = le.fit_transform(train_set['Ticket'])\n",
        "np.sort(train_set['le_Ticket'].unique())"
      ],
      "execution_count": 16,
      "outputs": [
        {
          "output_type": "execute_result",
          "data": {
            "text/plain": [
              "array([  0,   1,   2,   3,   4,   5,   6,   7,   8,   9,  10,  11,  12,\n",
              "        13,  14,  15,  16,  17,  18,  19,  20,  21,  22,  23,  24,  25,\n",
              "        26,  27,  28,  29,  30,  31,  32,  33,  34,  35,  36,  37,  38,\n",
              "        39,  40,  41,  42,  43,  44,  45,  46,  47,  48,  49,  50,  51,\n",
              "        52,  53,  54,  55,  56,  57,  58,  59,  60,  61,  62,  63,  64,\n",
              "        65,  66,  67,  68,  69,  70,  71,  72,  73,  74,  75,  76,  77,\n",
              "        78,  79,  80,  81,  82,  83,  84,  85,  86,  87,  88,  89,  90,\n",
              "        91,  92,  93,  94,  95,  96,  97,  98,  99, 100, 101, 102, 103,\n",
              "       104, 105, 106, 107, 108, 109, 110, 111, 112, 113, 114, 115, 116,\n",
              "       117, 118, 119, 120, 121, 122, 123, 124, 125, 126, 127, 128, 129,\n",
              "       130, 131, 132, 133, 134, 135, 136, 137, 138, 139, 140, 141, 142,\n",
              "       143, 144, 145, 146, 147, 148, 149, 150, 151, 152, 153, 154, 155,\n",
              "       156, 157, 158, 159, 160, 161, 162, 163, 164, 165, 166, 167, 168,\n",
              "       169, 170, 171, 172, 173, 174, 175, 176, 177, 178, 179, 180, 181,\n",
              "       182, 183, 184, 185, 186, 187, 188, 189, 190, 191, 192, 193, 194,\n",
              "       195, 196, 197, 198, 199, 200, 201, 202, 203, 204, 205, 206, 207,\n",
              "       208, 209, 210, 211, 212, 213, 214, 215, 216, 217, 218, 219, 220,\n",
              "       221, 222, 223, 224, 225, 226, 227, 228, 229, 230, 231, 232, 233,\n",
              "       234, 235, 236, 237, 238, 239, 240, 241, 242, 243, 244, 245, 246,\n",
              "       247, 248, 249, 250, 251, 252, 253, 254, 255, 256, 257, 258, 259,\n",
              "       260, 261, 262, 263, 264, 265, 266, 267, 268, 269, 270, 271, 272,\n",
              "       273, 274, 275, 276, 277, 278, 279, 280, 281, 282, 283, 284, 285,\n",
              "       286, 287, 288, 289, 290, 291, 292, 293, 294, 295, 296, 297, 298,\n",
              "       299, 300, 301, 302, 303, 304, 305, 306, 307, 308, 309, 310, 311,\n",
              "       312, 313, 314, 315, 316, 317, 318, 319, 320, 321, 322, 323, 324,\n",
              "       325, 326, 327, 328, 329, 330, 331, 332, 333, 334, 335, 336, 337,\n",
              "       338, 339, 340, 341, 342, 343, 344, 345, 346, 347, 348, 349, 350,\n",
              "       351, 352, 353, 354, 355, 356, 357, 358, 359, 360, 361, 362, 363,\n",
              "       364, 365, 366, 367, 368, 369, 370, 371, 372, 373, 374, 375, 376,\n",
              "       377, 378, 379, 380, 381, 382, 383, 384, 385, 386, 387, 388, 389,\n",
              "       390, 391, 392, 393, 394, 395, 396, 397, 398, 399, 400, 401, 402,\n",
              "       403, 404, 405, 406, 407, 408, 409, 410, 411, 412, 413, 414, 415,\n",
              "       416, 417, 418, 419, 420, 421, 422, 423, 424, 425, 426, 427, 428,\n",
              "       429, 430, 431, 432, 433, 434, 435, 436, 437, 438, 439, 440, 441,\n",
              "       442, 443, 444, 445, 446, 447, 448, 449, 450, 451, 452, 453, 454,\n",
              "       455, 456, 457, 458, 459, 460, 461, 462, 463, 464, 465, 466, 467,\n",
              "       468, 469, 470, 471, 472, 473, 474, 475, 476, 477, 478, 479, 480,\n",
              "       481, 482, 483, 484, 485, 486, 487, 488, 489, 490, 491, 492, 493,\n",
              "       494, 495, 496, 497, 498, 499, 500, 501, 502, 503, 504, 505, 506,\n",
              "       507, 508, 509, 510, 511, 512, 513, 514, 515, 516, 517, 518, 519,\n",
              "       520, 521, 522, 523, 524, 525, 526, 527, 528, 529, 530, 531, 532,\n",
              "       533, 534, 535, 536, 537, 538, 539, 540, 541, 542, 543, 544, 545,\n",
              "       546, 547, 548, 549, 550, 551, 552, 553, 554, 555, 556, 557, 558,\n",
              "       559, 560, 561, 562, 563, 564, 565, 566, 567, 568, 569, 570, 571,\n",
              "       572, 573, 574, 575, 576, 577, 578, 579, 580, 581, 582, 583, 584,\n",
              "       585, 586, 587, 588, 589, 590, 591, 592, 593, 594, 595, 596, 597,\n",
              "       598, 599, 600, 601, 602, 603, 604, 605, 606, 607, 608, 609, 610,\n",
              "       611, 612, 613, 614, 615, 616, 617, 618, 619, 620, 621, 622, 623,\n",
              "       624, 625, 626, 627, 628, 629, 630, 631, 632, 633, 634, 635, 636,\n",
              "       637, 638, 639, 640, 641, 642, 643, 644, 645, 646, 647, 648, 649,\n",
              "       650, 651, 652, 653, 654, 655, 656, 657, 658, 659, 660, 661, 662,\n",
              "       663, 664, 665, 666, 667, 668, 669, 670, 671, 672, 673, 674, 675,\n",
              "       676, 677, 678, 679, 680])"
            ]
          },
          "metadata": {
            "tags": []
          },
          "execution_count": 16
        }
      ]
    },
    {
      "cell_type": "markdown",
      "metadata": {
        "id": "519AQ-Lf8p9b",
        "colab_type": "text"
      },
      "source": [
        "[PT-BR]\n",
        "\n",
        "Como você pode ver temos 681 valores diferentes para `ticket`, por isso eles são substituídos pelos valores do intervalo [0, 680].\n",
        "\n",
        "Temos que levar em consideração que vários algoritmos de Machine Learning funcionam encontrando o melhor conjunto de pesos para nossas features e que ao fazermos essa transformação, intrinsecamente estamos enviesando nossos dados, aplicando diferenças de magnitude em variáveis que não possuem em sua essência.\n",
        "\n",
        "\n",
        "[EN-US]\n",
        "\n",
        "As you can see we have 681 unique values for `ticket`, that is why they are replaced by values between [0, 680].\n",
        "\n",
        "We need to take into account that some Machine Learning algorithms works by finding a set of weights for our features and that as we transform our data like this we are biasing our data, creating magnitude difference between values that doesn't present it."
      ]
    },
    {
      "cell_type": "markdown",
      "metadata": {
        "id": "INUisWtgtWeb",
        "colab_type": "text"
      },
      "source": [
        "---\n",
        "### Dummies with Pandas\n",
        "\n",
        "[PT-BR]\n",
        "\n",
        "Uma forma de se evitar o problema do `LabelEncoder` é criando `variáveis dummies`, que funciona como uma matriz de presença/ausência.\n",
        "\n",
        "O próprio `Pandas` possui uma forma bem elegante para lidar com isso, que é o método `pd.dummies()`\n",
        "\n",
        "\n",
        "[EN-US]\n",
        "\n",
        "One alternative to avoid the `LabelEndoder`'s problem is by creating `dummies variables`, that works as a presence/absence matrix.\n",
        "\n",
        "`Pandas` itself has an elegant way to handle that. The `pd.dummies()` method."
      ]
    },
    {
      "cell_type": "code",
      "metadata": {
        "id": "Yxe6uq9LtV2e",
        "colab_type": "code",
        "colab": {}
      },
      "source": [
        "train_set_dummie = train_set.join(pd.get_dummies(train_set['Sex']))"
      ],
      "execution_count": 0,
      "outputs": []
    },
    {
      "cell_type": "code",
      "metadata": {
        "id": "bFChc8t0twx8",
        "colab_type": "code",
        "outputId": "a42ddf6f-b4d4-4d86-9394-41b1ea3af1f7",
        "colab": {
          "base_uri": "https://localhost:8080/",
          "height": 204
        }
      },
      "source": [
        "train_set_dummie[['Sex', 'male', 'female']].head()"
      ],
      "execution_count": 26,
      "outputs": [
        {
          "output_type": "execute_result",
          "data": {
            "text/html": [
              "<div>\n",
              "<style scoped>\n",
              "    .dataframe tbody tr th:only-of-type {\n",
              "        vertical-align: middle;\n",
              "    }\n",
              "\n",
              "    .dataframe tbody tr th {\n",
              "        vertical-align: top;\n",
              "    }\n",
              "\n",
              "    .dataframe thead th {\n",
              "        text-align: right;\n",
              "    }\n",
              "</style>\n",
              "<table border=\"1\" class=\"dataframe\">\n",
              "  <thead>\n",
              "    <tr style=\"text-align: right;\">\n",
              "      <th></th>\n",
              "      <th>Sex</th>\n",
              "      <th>male</th>\n",
              "      <th>female</th>\n",
              "    </tr>\n",
              "  </thead>\n",
              "  <tbody>\n",
              "    <tr>\n",
              "      <th>0</th>\n",
              "      <td>male</td>\n",
              "      <td>1</td>\n",
              "      <td>0</td>\n",
              "    </tr>\n",
              "    <tr>\n",
              "      <th>1</th>\n",
              "      <td>female</td>\n",
              "      <td>0</td>\n",
              "      <td>1</td>\n",
              "    </tr>\n",
              "    <tr>\n",
              "      <th>2</th>\n",
              "      <td>female</td>\n",
              "      <td>0</td>\n",
              "      <td>1</td>\n",
              "    </tr>\n",
              "    <tr>\n",
              "      <th>3</th>\n",
              "      <td>female</td>\n",
              "      <td>0</td>\n",
              "      <td>1</td>\n",
              "    </tr>\n",
              "    <tr>\n",
              "      <th>4</th>\n",
              "      <td>male</td>\n",
              "      <td>1</td>\n",
              "      <td>0</td>\n",
              "    </tr>\n",
              "  </tbody>\n",
              "</table>\n",
              "</div>"
            ],
            "text/plain": [
              "      Sex  male  female\n",
              "0    male     1       0\n",
              "1  female     0       1\n",
              "2  female     0       1\n",
              "3  female     0       1\n",
              "4    male     1       0"
            ]
          },
          "metadata": {
            "tags": []
          },
          "execution_count": 26
        }
      ]
    },
    {
      "cell_type": "markdown",
      "metadata": {
        "id": "nORUfjY0B2yB",
        "colab_type": "text"
      },
      "source": [
        "[PT-BR]\n",
        "\n",
        "Como pode ver, agora nossa variável `Sex` é representada na forma de uma matrix de presença/ausência.\n",
        "\n",
        "Cada valor único foi transformado em uma coluna de um DataFrame, onde valores `1` corresponde a presença e valores `0` ausência.\n",
        "\n",
        "[EN-US]\n",
        "\n",
        "As you can see now our feature `Sex` is represented in a presence/absence matrix.\n",
        "\n",
        "It is created one new column for each unique value where `1` represent presence and `0` absence."
      ]
    },
    {
      "cell_type": "markdown",
      "metadata": {
        "id": "XiO1_yqeRhhp",
        "colab_type": "text"
      },
      "source": [
        "#### Problem\n",
        "\n",
        "[PT-BR]\n",
        "\n",
        "O principal problema desse método é em relação a reutilização do código. \n",
        "\n",
        "Suponha que você construa seu projeto de Machine Learning utilizando as features `[male, female]` que foram criadas pelo método `pd.dummies()` e que depois de um certo tempo os novos dados começam a chegar em um formato diferente: `[male, other]`.\n",
        "\n",
        "Nesse cenário a coluna `female`, que deveria ser criada, não irá existir mais e o modelo que foi construído irá quebrar.\n",
        "\n",
        "Veja esse exemplo abaixo:\n",
        "\n",
        "[EN-US]\n",
        "\n",
        "The main problem of this method is about the code reuse.\n",
        "\n",
        "Imagine that you build your Machine Learning project with the `[male, female]` features that were created by `pd.dummies()` method and that after a few months new data comes in a different format: `[male, other]`.\n",
        "\n",
        "At this moment the `female` feature, that should be created at this point of your code, wouldn't exist. Your code will crash.\n",
        "\n",
        "See this example bellow:"
      ]
    },
    {
      "cell_type": "code",
      "metadata": {
        "id": "ARz637iHRgrb",
        "colab_type": "code",
        "outputId": "15038ed3-77ff-4aa7-8583-670830d7eb7d",
        "colab": {
          "base_uri": "https://localhost:8080/",
          "height": 173
        }
      },
      "source": [
        "new_train_set = pd.DataFrame({'Sex': ['male', 'male', 'other', 'male']})\n",
        "new_train_set.head()"
      ],
      "execution_count": 27,
      "outputs": [
        {
          "output_type": "execute_result",
          "data": {
            "text/html": [
              "<div>\n",
              "<style scoped>\n",
              "    .dataframe tbody tr th:only-of-type {\n",
              "        vertical-align: middle;\n",
              "    }\n",
              "\n",
              "    .dataframe tbody tr th {\n",
              "        vertical-align: top;\n",
              "    }\n",
              "\n",
              "    .dataframe thead th {\n",
              "        text-align: right;\n",
              "    }\n",
              "</style>\n",
              "<table border=\"1\" class=\"dataframe\">\n",
              "  <thead>\n",
              "    <tr style=\"text-align: right;\">\n",
              "      <th></th>\n",
              "      <th>Sex</th>\n",
              "    </tr>\n",
              "  </thead>\n",
              "  <tbody>\n",
              "    <tr>\n",
              "      <th>0</th>\n",
              "      <td>male</td>\n",
              "    </tr>\n",
              "    <tr>\n",
              "      <th>1</th>\n",
              "      <td>male</td>\n",
              "    </tr>\n",
              "    <tr>\n",
              "      <th>2</th>\n",
              "      <td>other</td>\n",
              "    </tr>\n",
              "    <tr>\n",
              "      <th>3</th>\n",
              "      <td>male</td>\n",
              "    </tr>\n",
              "  </tbody>\n",
              "</table>\n",
              "</div>"
            ],
            "text/plain": [
              "     Sex\n",
              "0   male\n",
              "1   male\n",
              "2  other\n",
              "3   male"
            ]
          },
          "metadata": {
            "tags": []
          },
          "execution_count": 27
        }
      ]
    },
    {
      "cell_type": "code",
      "metadata": {
        "id": "jAL9hwlmgH9s",
        "colab_type": "code",
        "outputId": "359c80f8-802f-499e-80fc-561b8fc2a8d7",
        "colab": {
          "base_uri": "https://localhost:8080/",
          "height": 34
        }
      },
      "source": [
        "train_set_dummie = new_train_set.join(pd.get_dummies(new_train_set['Sex']))\n",
        "try:\n",
        "  train_set_dummie[['Sex', 'male', 'female']]\n",
        "except Exception as err:\n",
        "  print(f'Erro: {err}')"
      ],
      "execution_count": 33,
      "outputs": [
        {
          "output_type": "stream",
          "text": [
            "Erro: \"['female'] not in index\"\n"
          ],
          "name": "stdout"
        }
      ]
    },
    {
      "cell_type": "markdown",
      "metadata": {
        "id": "QejIg55IG2p_",
        "colab_type": "text"
      },
      "source": [
        "---\n",
        "### Dummies with OneHotEncoder\n",
        "\n",
        "[PT-BR]\n",
        "\n",
        "Uma das formas que temos de trabalhar com `variáveis dummies` e não termos esse problema é com o `OneHotEncoder`.\n",
        "\n",
        "Veja a diferença no código abaixo.\n",
        "\n",
        "\n",
        "[EN-US]\n",
        "\n",
        "One alternative to work with `dummie variables` and avoid this problem is using `OneHotEncoder`.\n",
        "\n",
        "See the difference bellow:"
      ]
    },
    {
      "cell_type": "code",
      "metadata": {
        "id": "6sn-Fdw0PQum",
        "colab_type": "code",
        "colab": {}
      },
      "source": [
        "from sklearn.preprocessing import OneHotEncoder"
      ],
      "execution_count": 0,
      "outputs": []
    },
    {
      "cell_type": "markdown",
      "metadata": {
        "id": "Kfo8nxGSHkc8",
        "colab_type": "text"
      },
      "source": [
        "[PT-BR]\n",
        "\n",
        "Quando estamos instanciando essa classe nós podemos passar alguns parâmetros. Nesse caso:\n",
        "- `handle_unknown=\"ignore\"`: Caso seja passado algum valor diferente do que utilizado em treino, ignore-o.\n",
        "- `sparse=False`: retorna um `array` ao invés de uma `sparse matrix`.\n",
        "\n",
        "[EN-US]\n",
        "\n",
        "When instanciating this class we can pass a few parameters. In this case:\n",
        "- `handle_unknown=\"ignore\"`: Ignore any different value from the fitting set.\n",
        "- `sparse=False`: return an `array` instead of `sparse matrix`."
      ]
    },
    {
      "cell_type": "code",
      "metadata": {
        "id": "gNO8qIDAt6pf",
        "colab_type": "code",
        "colab": {}
      },
      "source": [
        "onehot = OneHotEncoder(handle_unknown=\"ignore\", sparse=False)"
      ],
      "execution_count": 0,
      "outputs": []
    },
    {
      "cell_type": "code",
      "metadata": {
        "id": "bBUyTH9PRc13",
        "colab_type": "code",
        "outputId": "da3b764e-97b7-4263-af9f-c74f708a3891",
        "colab": {
          "base_uri": "https://localhost:8080/",
          "height": 204
        }
      },
      "source": [
        "encoded = onehot.fit_transform(train_set['Sex'].values.reshape(-1, 1))\n",
        "pd.DataFrame(encoded).head()"
      ],
      "execution_count": 38,
      "outputs": [
        {
          "output_type": "execute_result",
          "data": {
            "text/html": [
              "<div>\n",
              "<style scoped>\n",
              "    .dataframe tbody tr th:only-of-type {\n",
              "        vertical-align: middle;\n",
              "    }\n",
              "\n",
              "    .dataframe tbody tr th {\n",
              "        vertical-align: top;\n",
              "    }\n",
              "\n",
              "    .dataframe thead th {\n",
              "        text-align: right;\n",
              "    }\n",
              "</style>\n",
              "<table border=\"1\" class=\"dataframe\">\n",
              "  <thead>\n",
              "    <tr style=\"text-align: right;\">\n",
              "      <th></th>\n",
              "      <th>0</th>\n",
              "      <th>1</th>\n",
              "    </tr>\n",
              "  </thead>\n",
              "  <tbody>\n",
              "    <tr>\n",
              "      <th>0</th>\n",
              "      <td>0.0</td>\n",
              "      <td>1.0</td>\n",
              "    </tr>\n",
              "    <tr>\n",
              "      <th>1</th>\n",
              "      <td>1.0</td>\n",
              "      <td>0.0</td>\n",
              "    </tr>\n",
              "    <tr>\n",
              "      <th>2</th>\n",
              "      <td>1.0</td>\n",
              "      <td>0.0</td>\n",
              "    </tr>\n",
              "    <tr>\n",
              "      <th>3</th>\n",
              "      <td>1.0</td>\n",
              "      <td>0.0</td>\n",
              "    </tr>\n",
              "    <tr>\n",
              "      <th>4</th>\n",
              "      <td>0.0</td>\n",
              "      <td>1.0</td>\n",
              "    </tr>\n",
              "  </tbody>\n",
              "</table>\n",
              "</div>"
            ],
            "text/plain": [
              "     0    1\n",
              "0  0.0  1.0\n",
              "1  1.0  0.0\n",
              "2  1.0  0.0\n",
              "3  1.0  0.0\n",
              "4  0.0  1.0"
            ]
          },
          "metadata": {
            "tags": []
          },
          "execution_count": 38
        }
      ]
    },
    {
      "cell_type": "markdown",
      "metadata": {
        "id": "gF9TU_nYIk-2",
        "colab_type": "text"
      },
      "source": [
        "[PT-BR]\n",
        "\n",
        "Como pode ver, as principal diferenças entre os dois métodos: `pd.dummies()` e `OneHotEncoder` são:\n",
        "- O primeiro retorna um DataFrame enquanto o segundo um array.\n",
        "- O segundo dá a opção de como você gostaria de lidar com valores desconhecidos.\n",
        "- O segundo é muito mais prático de se utilizar.\n",
        "\n",
        "[EN-US]\n",
        "\n",
        "As you can see, the main differences between the `pd.dummies()` method and the `OneHotEncoder` are:\n",
        "- The first returns a DataFrame, while the second returns an Array,\n",
        "- The second gives some options to deal with unknown values\n",
        "- The second is way easier to use."
      ]
    },
    {
      "cell_type": "markdown",
      "metadata": {
        "id": "xI8wqhg_JxyX",
        "colab_type": "text"
      },
      "source": [
        "---\n",
        "### FeatureHasher\n",
        "\n",
        "[PT-BR]\n",
        "\n",
        "Esse última ferramenta é uma abordagem interessante para lidar com variáveis que possuam muitos valores únicos, como é o caso da nossa `Ticket`.\n",
        "\n",
        "O problema que ela resolve é o de serem criadas muitas variáveis dummies diferentes, deixando nosso modelo pesado e algumas vezes interferindo em sua eficácia.\n",
        "\n",
        "[EN-US]\n",
        "\n",
        "This last tool is an interesting approach to handle features that have many unique values, as ou `Ticket`.\n",
        "\n",
        "The problem it solves is the creation of many `dummie variables`, causing performance issues and high memory necessities."
      ]
    },
    {
      "cell_type": "code",
      "metadata": {
        "id": "N0NYZ0GzVR4O",
        "colab_type": "code",
        "colab": {}
      },
      "source": [
        "from sklearn.feature_extraction import FeatureHasher"
      ],
      "execution_count": 0,
      "outputs": []
    },
    {
      "cell_type": "markdown",
      "metadata": {
        "id": "Dq_ze4O2cvOV",
        "colab_type": "text"
      },
      "source": [
        "[PT-BR]\n",
        "\n",
        "Quando estamos instanciando essa classe nós podemos passar alguns parâmetros. Nesse caso:\n",
        "- `n_features=5`: Número de features do output\n",
        "- `input_type='string'`: determina que serão passados valores de tipo `string` para a conversão.\n",
        "\n",
        "Essa classe utiliza a função hash `signed 32-bit version of Murmurhash3` para fazer a conversão dos dados.\n",
        "\n",
        "[EN-US]\n",
        "\n",
        "When instanciating this class we can pass a few parameters. In this case:\n",
        "- `n_features=5`: Number of features in the output\n",
        "- `input_type='string'`: Sets the type of input as `string`\n",
        "\n",
        "This class uses the `signed 32-bit version of Murmurhash3` hash function to transfrom the our data."
      ]
    },
    {
      "cell_type": "code",
      "metadata": {
        "id": "WNJcRi4tVSgL",
        "colab_type": "code",
        "colab": {}
      },
      "source": [
        "hasher = FeatureHasher(n_features=5, input_type='string')"
      ],
      "execution_count": 0,
      "outputs": []
    },
    {
      "cell_type": "code",
      "metadata": {
        "id": "IrlWWfJRbfZM",
        "colab_type": "code",
        "colab": {
          "base_uri": "https://localhost:8080/",
          "height": 204
        },
        "outputId": "75a80f8c-5408-46aa-ee07-beb379c02919"
      },
      "source": [
        "ticket_transformed = hasher.fit_transform(train_set['Ticket'])\n",
        "pd.DataFrame(ticket_transformed.toarray()).head()"
      ],
      "execution_count": 47,
      "outputs": [
        {
          "output_type": "execute_result",
          "data": {
            "text/html": [
              "<div>\n",
              "<style scoped>\n",
              "    .dataframe tbody tr th:only-of-type {\n",
              "        vertical-align: middle;\n",
              "    }\n",
              "\n",
              "    .dataframe tbody tr th {\n",
              "        vertical-align: top;\n",
              "    }\n",
              "\n",
              "    .dataframe thead th {\n",
              "        text-align: right;\n",
              "    }\n",
              "</style>\n",
              "<table border=\"1\" class=\"dataframe\">\n",
              "  <thead>\n",
              "    <tr style=\"text-align: right;\">\n",
              "      <th></th>\n",
              "      <th>0</th>\n",
              "      <th>1</th>\n",
              "      <th>2</th>\n",
              "      <th>3</th>\n",
              "      <th>4</th>\n",
              "    </tr>\n",
              "  </thead>\n",
              "  <tbody>\n",
              "    <tr>\n",
              "      <th>0</th>\n",
              "      <td>1.0</td>\n",
              "      <td>1.0</td>\n",
              "      <td>-1.0</td>\n",
              "      <td>1.0</td>\n",
              "      <td>1.0</td>\n",
              "    </tr>\n",
              "    <tr>\n",
              "      <th>1</th>\n",
              "      <td>1.0</td>\n",
              "      <td>0.0</td>\n",
              "      <td>0.0</td>\n",
              "      <td>1.0</td>\n",
              "      <td>0.0</td>\n",
              "    </tr>\n",
              "    <tr>\n",
              "      <th>2</th>\n",
              "      <td>1.0</td>\n",
              "      <td>2.0</td>\n",
              "      <td>0.0</td>\n",
              "      <td>-3.0</td>\n",
              "      <td>0.0</td>\n",
              "    </tr>\n",
              "    <tr>\n",
              "      <th>3</th>\n",
              "      <td>2.0</td>\n",
              "      <td>0.0</td>\n",
              "      <td>-2.0</td>\n",
              "      <td>-1.0</td>\n",
              "      <td>-1.0</td>\n",
              "    </tr>\n",
              "    <tr>\n",
              "      <th>4</th>\n",
              "      <td>3.0</td>\n",
              "      <td>0.0</td>\n",
              "      <td>-1.0</td>\n",
              "      <td>1.0</td>\n",
              "      <td>-1.0</td>\n",
              "    </tr>\n",
              "  </tbody>\n",
              "</table>\n",
              "</div>"
            ],
            "text/plain": [
              "     0    1    2    3    4\n",
              "0  1.0  1.0 -1.0  1.0  1.0\n",
              "1  1.0  0.0  0.0  1.0  0.0\n",
              "2  1.0  2.0  0.0 -3.0  0.0\n",
              "3  2.0  0.0 -2.0 -1.0 -1.0\n",
              "4  3.0  0.0 -1.0  1.0 -1.0"
            ]
          },
          "metadata": {
            "tags": []
          },
          "execution_count": 47
        }
      ]
    }
  ]
}